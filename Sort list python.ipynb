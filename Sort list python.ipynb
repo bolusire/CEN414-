{
 "cells": [
  {
   "cell_type": "code",
   "execution_count": null,
   "id": "933efb22-3530-4c31-9282-be5a9793ca7e",
   "metadata": {},
   "outputs": [],
   "source": [
    "print(\"Akinbolusire Heritage\")\n",
    "print(\"19CJ025768\")"
   ]
  },
  {
   "cell_type": "code",
   "execution_count": 14,
   "id": "bda759e1-3c12-42b5-b17a-bd6f6271d354",
   "metadata": {},
   "outputs": [
    {
     "name": "stdout",
     "output_type": "stream",
     "text": [
      "x is 1\n",
      "<class 'int'>\n"
     ]
    }
   ],
   "source": [
    "x = 1\n",
    "if x == 1:\n",
    "    print(\"x is 1\") #indentation\n",
    "    print(type(x))"
   ]
  },
  {
   "cell_type": "code",
   "execution_count": 4,
   "id": "e7209311-24a9-4062-83a2-363c20b25e25",
   "metadata": {},
   "outputs": [
    {
     "name": "stdout",
     "output_type": "stream",
     "text": [
      "['dog', 'cat', 'elephant', 'zebra', 'bee', 'fish', 'dolphin']\n"
     ]
    }
   ],
   "source": [
    "myList = [\"dog\",\"cat\",\"elephant\",\"zebra\",\"bee\",\"fish\",\"dolphin\"]\n",
    "print(myList)"
   ]
  },
  {
   "cell_type": "code",
   "execution_count": 7,
   "id": "adcdcb84-cb30-497b-99bd-888fa580a81a",
   "metadata": {},
   "outputs": [
    {
     "name": "stdout",
     "output_type": "stream",
     "text": [
      "['bee', 'cat', 'dog', 'dolphin', 'elephant', 'fish', 'zebra']\n"
     ]
    }
   ],
   "source": [
    "myList.sort()\n",
    "print(myList)"
   ]
  },
  {
   "cell_type": "code",
   "execution_count": 8,
   "id": "c2cfca14-59ad-47d1-998c-4604d2b35484",
   "metadata": {},
   "outputs": [
    {
     "name": "stdout",
     "output_type": "stream",
     "text": [
      "['zebra', 'fish', 'elephant', 'dolphin', 'dog', 'cat', 'bee']\n"
     ]
    }
   ],
   "source": [
    "myList.sort(reverse=True)\n",
    "print(myList)"
   ]
  },
  {
   "cell_type": "code",
   "execution_count": null,
   "id": "e9a4506d-a623-4822-9ccf-4d3eef31553c",
   "metadata": {},
   "outputs": [],
   "source": []
  }
 ],
 "metadata": {
  "kernelspec": {
   "display_name": "Python 3 (ipykernel)",
   "language": "python",
   "name": "python3"
  },
  "language_info": {
   "codemirror_mode": {
    "name": "ipython",
    "version": 3
   },
   "file_extension": ".py",
   "mimetype": "text/x-python",
   "name": "python",
   "nbconvert_exporter": "python",
   "pygments_lexer": "ipython3",
   "version": "3.10.7"
  }
 },
 "nbformat": 4,
 "nbformat_minor": 5
}
