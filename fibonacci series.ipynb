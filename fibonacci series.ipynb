{
 "cells": [
  {
   "cell_type": "code",
   "execution_count": 2,
   "id": "11719812-89a6-4dc0-a079-25325bc3f3c1",
   "metadata": {},
   "outputs": [
    {
     "name": "stdout",
     "output_type": "stream",
     "text": [
      "[0, 1, 1, 2, 3, 5, 8, 13, 21, 34, 55, 89, 144, 233, 377, 610, 987, 1597, 2584, 4181, 6765]\n"
     ]
    }
   ],
   "source": [
    "fibonacci_array = [0, 1]\n",
    "a = 0\n",
    "b = 1\n",
    "while ((a+b)<10000):\n",
    "    a, b = b, a+b\n",
    "    fibonacci_array.append(b)\n",
    "    \n",
    "print(fibonacci_array)"
   ]
  },
  {
   "cell_type": "code",
   "execution_count": null,
   "id": "edced711-d18e-4dff-b8f1-716bd853ba8f",
   "metadata": {},
   "outputs": [],
   "source": []
  }
 ],
 "metadata": {
  "kernelspec": {
   "display_name": "Python 3 (ipykernel)",
   "language": "python",
   "name": "python3"
  },
  "language_info": {
   "codemirror_mode": {
    "name": "ipython",
    "version": 3
   },
   "file_extension": ".py",
   "mimetype": "text/x-python",
   "name": "python",
   "nbconvert_exporter": "python",
   "pygments_lexer": "ipython3",
   "version": "3.10.7"
  }
 },
 "nbformat": 4,
 "nbformat_minor": 5
}
