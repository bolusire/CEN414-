{
 "cells": [
  {
   "cell_type": "code",
   "execution_count": 3,
   "id": "2adb308c-f0df-41e5-8425-95022d1f45e5",
   "metadata": {},
   "outputs": [
    {
     "name": "stdout",
     "output_type": "stream",
     "text": [
      "I am not a boy \n",
      "Length:  14 \n",
      "Word Length:  5\n",
      "I am not a girl \n",
      "Length:  15 \n",
      "Word Length:  5\n",
      "I am not a man \n",
      "Length:  14 \n",
      "Word Length:  5\n",
      "I am not a woman \n",
      "Length:  16 \n",
      "Word Length:  5\n"
     ]
    }
   ],
   "source": [
    "sentences = [\"I am not a boy\",\"I am not a girl\",\"I am not a man\",\"I am not a woman\"]\n",
    "\n",
    "for i in sentences:\n",
    "    length = 0\n",
    "    word_length = 1\n",
    "    for j in i:\n",
    "        length += 1\n",
    "        if (j.isalnum() and  not(i[length-2].isalnum())):\n",
    "            word_length += 1\n",
    "    print(i, '\\nLength: ', length, '\\nWord Length: ', word_length)"
   ]
  },
  {
   "cell_type": "code",
   "execution_count": null,
   "id": "08631678-3b37-4c7d-99e0-bc416c06a4fe",
   "metadata": {},
   "outputs": [],
   "source": []
  }
 ],
 "metadata": {
  "kernelspec": {
   "display_name": "Python 3 (ipykernel)",
   "language": "python",
   "name": "python3"
  },
  "language_info": {
   "codemirror_mode": {
    "name": "ipython",
    "version": 3
   },
   "file_extension": ".py",
   "mimetype": "text/x-python",
   "name": "python",
   "nbconvert_exporter": "python",
   "pygments_lexer": "ipython3",
   "version": "3.10.7"
  }
 },
 "nbformat": 4,
 "nbformat_minor": 5
}
